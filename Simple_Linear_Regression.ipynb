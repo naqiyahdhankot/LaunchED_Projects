{
  "nbformat": 4,
  "nbformat_minor": 0,
  "metadata": {
    "colab": {
      "provenance": []
    },
    "kernelspec": {
      "name": "python3",
      "display_name": "Python 3"
    },
    "language_info": {
      "name": "python"
    }
  },
  "cells": [
    {
      "cell_type": "code",
      "execution_count": null,
      "metadata": {
        "id": "TtRy6ht7fFuH"
      },
      "outputs": [],
      "source": [
        "#import python libraries\n",
        "import numpy as np\n",
        "import pandas as pd\n",
        "import matplotlib.pyplot as plt\n",
        "import seaborn as sns\n",
        "%matplotlib inline"
      ]
    },
    {
      "cell_type": "code",
      "source": [
        "from google.colab import files\n",
        "uploaded = files.upload()"
      ],
      "metadata": {
        "id": "BsAyzohfkTdt",
        "colab": {
          "base_uri": "https://localhost:8080/",
          "height": 73
        },
        "outputId": "743c140b-15a4-4442-9db5-d5c0aecef98c"
      },
      "execution_count": null,
      "outputs": [
        {
          "output_type": "display_data",
          "data": {
            "text/plain": [
              "<IPython.core.display.HTML object>"
            ],
            "text/html": [
              "\n",
              "     <input type=\"file\" id=\"files-938d29c6-25d5-4d8f-bb65-56391c4bddce\" name=\"files[]\" multiple disabled\n",
              "        style=\"border:none\" />\n",
              "     <output id=\"result-938d29c6-25d5-4d8f-bb65-56391c4bddce\">\n",
              "      Upload widget is only available when the cell has been executed in the\n",
              "      current browser session. Please rerun this cell to enable.\n",
              "      </output>\n",
              "      <script>// Copyright 2017 Google LLC\n",
              "//\n",
              "// Licensed under the Apache License, Version 2.0 (the \"License\");\n",
              "// you may not use this file except in compliance with the License.\n",
              "// You may obtain a copy of the License at\n",
              "//\n",
              "//      http://www.apache.org/licenses/LICENSE-2.0\n",
              "//\n",
              "// Unless required by applicable law or agreed to in writing, software\n",
              "// distributed under the License is distributed on an \"AS IS\" BASIS,\n",
              "// WITHOUT WARRANTIES OR CONDITIONS OF ANY KIND, either express or implied.\n",
              "// See the License for the specific language governing permissions and\n",
              "// limitations under the License.\n",
              "\n",
              "/**\n",
              " * @fileoverview Helpers for google.colab Python module.\n",
              " */\n",
              "(function(scope) {\n",
              "function span(text, styleAttributes = {}) {\n",
              "  const element = document.createElement('span');\n",
              "  element.textContent = text;\n",
              "  for (const key of Object.keys(styleAttributes)) {\n",
              "    element.style[key] = styleAttributes[key];\n",
              "  }\n",
              "  return element;\n",
              "}\n",
              "\n",
              "// Max number of bytes which will be uploaded at a time.\n",
              "const MAX_PAYLOAD_SIZE = 100 * 1024;\n",
              "\n",
              "function _uploadFiles(inputId, outputId) {\n",
              "  const steps = uploadFilesStep(inputId, outputId);\n",
              "  const outputElement = document.getElementById(outputId);\n",
              "  // Cache steps on the outputElement to make it available for the next call\n",
              "  // to uploadFilesContinue from Python.\n",
              "  outputElement.steps = steps;\n",
              "\n",
              "  return _uploadFilesContinue(outputId);\n",
              "}\n",
              "\n",
              "// This is roughly an async generator (not supported in the browser yet),\n",
              "// where there are multiple asynchronous steps and the Python side is going\n",
              "// to poll for completion of each step.\n",
              "// This uses a Promise to block the python side on completion of each step,\n",
              "// then passes the result of the previous step as the input to the next step.\n",
              "function _uploadFilesContinue(outputId) {\n",
              "  const outputElement = document.getElementById(outputId);\n",
              "  const steps = outputElement.steps;\n",
              "\n",
              "  const next = steps.next(outputElement.lastPromiseValue);\n",
              "  return Promise.resolve(next.value.promise).then((value) => {\n",
              "    // Cache the last promise value to make it available to the next\n",
              "    // step of the generator.\n",
              "    outputElement.lastPromiseValue = value;\n",
              "    return next.value.response;\n",
              "  });\n",
              "}\n",
              "\n",
              "/**\n",
              " * Generator function which is called between each async step of the upload\n",
              " * process.\n",
              " * @param {string} inputId Element ID of the input file picker element.\n",
              " * @param {string} outputId Element ID of the output display.\n",
              " * @return {!Iterable<!Object>} Iterable of next steps.\n",
              " */\n",
              "function* uploadFilesStep(inputId, outputId) {\n",
              "  const inputElement = document.getElementById(inputId);\n",
              "  inputElement.disabled = false;\n",
              "\n",
              "  const outputElement = document.getElementById(outputId);\n",
              "  outputElement.innerHTML = '';\n",
              "\n",
              "  const pickedPromise = new Promise((resolve) => {\n",
              "    inputElement.addEventListener('change', (e) => {\n",
              "      resolve(e.target.files);\n",
              "    });\n",
              "  });\n",
              "\n",
              "  const cancel = document.createElement('button');\n",
              "  inputElement.parentElement.appendChild(cancel);\n",
              "  cancel.textContent = 'Cancel upload';\n",
              "  const cancelPromise = new Promise((resolve) => {\n",
              "    cancel.onclick = () => {\n",
              "      resolve(null);\n",
              "    };\n",
              "  });\n",
              "\n",
              "  // Wait for the user to pick the files.\n",
              "  const files = yield {\n",
              "    promise: Promise.race([pickedPromise, cancelPromise]),\n",
              "    response: {\n",
              "      action: 'starting',\n",
              "    }\n",
              "  };\n",
              "\n",
              "  cancel.remove();\n",
              "\n",
              "  // Disable the input element since further picks are not allowed.\n",
              "  inputElement.disabled = true;\n",
              "\n",
              "  if (!files) {\n",
              "    return {\n",
              "      response: {\n",
              "        action: 'complete',\n",
              "      }\n",
              "    };\n",
              "  }\n",
              "\n",
              "  for (const file of files) {\n",
              "    const li = document.createElement('li');\n",
              "    li.append(span(file.name, {fontWeight: 'bold'}));\n",
              "    li.append(span(\n",
              "        `(${file.type || 'n/a'}) - ${file.size} bytes, ` +\n",
              "        `last modified: ${\n",
              "            file.lastModifiedDate ? file.lastModifiedDate.toLocaleDateString() :\n",
              "                                    'n/a'} - `));\n",
              "    const percent = span('0% done');\n",
              "    li.appendChild(percent);\n",
              "\n",
              "    outputElement.appendChild(li);\n",
              "\n",
              "    const fileDataPromise = new Promise((resolve) => {\n",
              "      const reader = new FileReader();\n",
              "      reader.onload = (e) => {\n",
              "        resolve(e.target.result);\n",
              "      };\n",
              "      reader.readAsArrayBuffer(file);\n",
              "    });\n",
              "    // Wait for the data to be ready.\n",
              "    let fileData = yield {\n",
              "      promise: fileDataPromise,\n",
              "      response: {\n",
              "        action: 'continue',\n",
              "      }\n",
              "    };\n",
              "\n",
              "    // Use a chunked sending to avoid message size limits. See b/62115660.\n",
              "    let position = 0;\n",
              "    do {\n",
              "      const length = Math.min(fileData.byteLength - position, MAX_PAYLOAD_SIZE);\n",
              "      const chunk = new Uint8Array(fileData, position, length);\n",
              "      position += length;\n",
              "\n",
              "      const base64 = btoa(String.fromCharCode.apply(null, chunk));\n",
              "      yield {\n",
              "        response: {\n",
              "          action: 'append',\n",
              "          file: file.name,\n",
              "          data: base64,\n",
              "        },\n",
              "      };\n",
              "\n",
              "      let percentDone = fileData.byteLength === 0 ?\n",
              "          100 :\n",
              "          Math.round((position / fileData.byteLength) * 100);\n",
              "      percent.textContent = `${percentDone}% done`;\n",
              "\n",
              "    } while (position < fileData.byteLength);\n",
              "  }\n",
              "\n",
              "  // All done.\n",
              "  yield {\n",
              "    response: {\n",
              "      action: 'complete',\n",
              "    }\n",
              "  };\n",
              "}\n",
              "\n",
              "scope.google = scope.google || {};\n",
              "scope.google.colab = scope.google.colab || {};\n",
              "scope.google.colab._files = {\n",
              "  _uploadFiles,\n",
              "  _uploadFilesContinue,\n",
              "};\n",
              "})(self);\n",
              "</script> "
            ]
          },
          "metadata": {}
        },
        {
          "output_type": "stream",
          "name": "stdout",
          "text": [
            "Saving Salary_dataset.csv to Salary_dataset.csv\n"
          ]
        }
      ]
    },
    {
      "cell_type": "code",
      "source": [
        "df=pd.read_csv('Salary_dataset.csv')"
      ],
      "metadata": {
        "id": "KhsTk-W_msrG"
      },
      "execution_count": null,
      "outputs": []
    },
    {
      "cell_type": "markdown",
      "source": [
        "Exploratory data analysis"
      ],
      "metadata": {
        "id": "MW6kuG-3mwsw"
      }
    },
    {
      "cell_type": "markdown",
      "source": [
        "pandas shape attribute"
      ],
      "metadata": {
        "id": "QNFQDokzm4Qz"
      }
    },
    {
      "cell_type": "code",
      "source": [
        "print(df.shape)"
      ],
      "metadata": {
        "colab": {
          "base_uri": "https://localhost:8080/"
        },
        "id": "ctnhG8bZmz7v",
        "outputId": "fd81e3f9-4ae5-4207-f585-1d1ddddfdc29"
      },
      "execution_count": null,
      "outputs": [
        {
          "output_type": "stream",
          "name": "stdout",
          "text": [
            "(30, 3)\n"
          ]
        }
      ]
    },
    {
      "cell_type": "markdown",
      "source": [
        "pandas head() method"
      ],
      "metadata": {
        "id": "qihX1RQnm_5j"
      }
    },
    {
      "cell_type": "code",
      "source": [
        "print(df.head())"
      ],
      "metadata": {
        "colab": {
          "base_uri": "https://localhost:8080/"
        },
        "id": "qtuoJswFnCXw",
        "outputId": "5e924a86-df68-4103-b181-3a171e117c05"
      },
      "execution_count": null,
      "outputs": [
        {
          "output_type": "stream",
          "name": "stdout",
          "text": [
            "   Sr  Yearxperience   Salary\n",
            "0   0            1.2  39344.0\n",
            "1   1            1.4  46206.0\n",
            "2   2            1.6  37732.0\n",
            "3   3            2.1  43526.0\n",
            "4   4            2.3  39892.0\n"
          ]
        }
      ]
    },
    {
      "cell_type": "markdown",
      "source": [
        "pandas columns attribute"
      ],
      "metadata": {
        "id": "H0Lo3jXmnT2l"
      }
    },
    {
      "cell_type": "code",
      "source": [
        "#rename column labels of dataframe with columns attribute\n",
        "df.columns=['EmpID','Year_of_Experience','Salary']"
      ],
      "metadata": {
        "id": "KBt1apEvoksS"
      },
      "execution_count": null,
      "outputs": []
    },
    {
      "cell_type": "markdown",
      "source": [
        "column names renamed"
      ],
      "metadata": {
        "id": "vO44IZbgpHve"
      }
    },
    {
      "cell_type": "code",
      "source": [
        "print(df.head())"
      ],
      "metadata": {
        "colab": {
          "base_uri": "https://localhost:8080/"
        },
        "id": "XhTwCztDpJlb",
        "outputId": "2c8fd4db-05f0-41e1-ba4b-b8f45f8157f4"
      },
      "execution_count": null,
      "outputs": [
        {
          "output_type": "stream",
          "name": "stdout",
          "text": [
            "   EmpID  Year_of_Experience   Salary\n",
            "0      0                 1.2  39344.0\n",
            "1      1                 1.4  46206.0\n",
            "2      2                 1.6  37732.0\n",
            "3      3                 2.1  43526.0\n",
            "4      4                 2.3  39892.0\n"
          ]
        }
      ]
    },
    {
      "cell_type": "markdown",
      "source": [
        "pandas info() method"
      ],
      "metadata": {
        "id": "JUiA-JbcpQKZ"
      }
    },
    {
      "cell_type": "code",
      "source": [
        "print(df.info())"
      ],
      "metadata": {
        "colab": {
          "base_uri": "https://localhost:8080/"
        },
        "id": "rF4A1BeIpUFe",
        "outputId": "03aaaf2a-f45f-4971-bb58-0c6c82735916"
      },
      "execution_count": null,
      "outputs": [
        {
          "output_type": "stream",
          "name": "stdout",
          "text": [
            "<class 'pandas.core.frame.DataFrame'>\n",
            "RangeIndex: 30 entries, 0 to 29\n",
            "Data columns (total 3 columns):\n",
            " #   Column              Non-Null Count  Dtype  \n",
            "---  ------              --------------  -----  \n",
            " 0   EmpID               30 non-null     int64  \n",
            " 1   Year_of_Experience  30 non-null     float64\n",
            " 2   Salary              30 non-null     float64\n",
            "dtypes: float64(2), int64(1)\n",
            "memory usage: 852.0 bytes\n",
            "None\n"
          ]
        }
      ]
    },
    {
      "cell_type": "markdown",
      "source": [
        "pandas describe() method"
      ],
      "metadata": {
        "id": "t9OyrlhppbzI"
      }
    },
    {
      "cell_type": "code",
      "source": [
        "print(df.describe())"
      ],
      "metadata": {
        "colab": {
          "base_uri": "https://localhost:8080/"
        },
        "id": "l_6ec5Tfpe7P",
        "outputId": "3d4303e3-ba5f-45dd-afef-f74ca41673c7"
      },
      "execution_count": null,
      "outputs": [
        {
          "output_type": "stream",
          "name": "stdout",
          "text": [
            "           EmpID  Year_of_Experience         Salary\n",
            "count  30.000000           30.000000      30.000000\n",
            "mean   14.500000            5.413333   76004.000000\n",
            "std     8.803408            2.837888   27414.429785\n",
            "min     0.000000            1.200000   37732.000000\n",
            "25%     7.250000            3.300000   56721.750000\n",
            "50%    14.500000            4.800000   65238.000000\n",
            "75%    21.750000            7.800000  100545.750000\n",
            "max    29.000000           10.600000  122392.000000\n"
          ]
        }
      ]
    },
    {
      "cell_type": "markdown",
      "source": [
        "independent and dependent variables"
      ],
      "metadata": {
        "id": "MqTPCZV-ppWE"
      }
    },
    {
      "cell_type": "code",
      "source": [
        "#declare feature variable and input variable\n",
        "\n",
        "x=df['Year_of_Experience'].values\n",
        "y=df['Salary'].values\n",
        "\n",
        "# years of experience and salary data values are given by x and y respectively\n",
        "#y=target/dependent variabale\n",
        "#x=independent variable\n",
        "#values attribute of pandas dataframe returns numpy arrays"
      ],
      "metadata": {
        "id": "Jk_CnewUptcL"
      },
      "execution_count": null,
      "outputs": []
    },
    {
      "cell_type": "markdown",
      "source": [
        "visual eda"
      ],
      "metadata": {
        "id": "-qg1w1EUqc9j"
      }
    },
    {
      "cell_type": "code",
      "source": [
        "#plot scatter plot between x and y\n",
        "plt.scatter(x,y,color='blue',label='Scatter Plot')\n",
        "plt.title('Relationship between Years of Experience and Salary')\n",
        "plt.xlabel('Years of Experience')\n",
        "plt.ylabel('Salary')\n",
        "plt.legend(loc=4)\n",
        "plt.show()\n",
        "\n"
      ],
      "metadata": {
        "colab": {
          "base_uri": "https://localhost:8080/",
          "height": 470
        },
        "id": "yJzb1dYhqes4",
        "outputId": "01343f04-f05b-47ce-fdb6-a1fea4336cad"
      },
      "execution_count": null,
      "outputs": [
        {
          "output_type": "display_data",
          "data": {
            "text/plain": [
              "<Figure size 640x480 with 1 Axes>"
            ],
            "image/png": "[encoded data removed]"
          },
          "metadata": {}
        }
      ]
    },
    {
      "cell_type": "markdown",
      "source": [
        "checking dimensions of X and Y"
      ],
      "metadata": {
        "id": "Kf1p8gBHrG6b"
      }
    },
    {
      "cell_type": "code",
      "source": [
        "#print dimensions of x and y\n",
        "print(x.shape)\n",
        "print(y.shape)\n"
      ],
      "metadata": {
        "colab": {
          "base_uri": "https://localhost:8080/"
        },
        "id": "i2uyEDnzrPaH",
        "outputId": "ad7e4884-7d91-4408-805e-6c424790965a"
      },
      "execution_count": null,
      "outputs": [
        {
          "output_type": "stream",
          "name": "stdout",
          "text": [
            "(30,)\n",
            "(30,)\n"
          ]
        }
      ]
    },
    {
      "cell_type": "markdown",
      "source": [
        "reshaping x and y"
      ],
      "metadata": {
        "id": "6s87G5Q0rcQt"
      }
    },
    {
      "cell_type": "code",
      "source": [
        "#reshape x and y\n",
        "x=x.reshape(-1,1)\n",
        "y=y.reshape(-1,1)"
      ],
      "metadata": {
        "id": "dbYgwQ3ireSN"
      },
      "execution_count": null,
      "outputs": []
    },
    {
      "cell_type": "code",
      "source": [
        "#print dimensions of x and y after reshaping\n",
        "print(x.shape)\n",
        "print(y.shape)\n"
      ],
      "metadata": {
        "colab": {
          "base_uri": "https://localhost:8080/"
        },
        "id": "yGjM7MtQrpwL",
        "outputId": "fb37da84-43c0-4e1e-ca51-ffbee80ad952"
      },
      "execution_count": null,
      "outputs": [
        {
          "output_type": "stream",
          "name": "stdout",
          "text": [
            "(30, 1)\n",
            "(30, 1)\n"
          ]
        }
      ]
    },
    {
      "cell_type": "markdown",
      "source": [
        "difference in dimension of x and y after reshaping"
      ],
      "metadata": {
        "id": "1Lok3vdPryuH"
      }
    },
    {
      "cell_type": "markdown",
      "source": [
        "train test split"
      ],
      "metadata": {
        "id": "-QLoLpU4r6D5"
      }
    },
    {
      "cell_type": "code",
      "source": [
        "#split x and y into training and test data sets\n",
        "\n",
        "from sklearn.model_selection import train_test_split\n",
        "x_train,x_test,y_train,y_test=train_test_split(x,y,test_size=0.33,random_state=42)\n"
      ],
      "metadata": {
        "id": "5RCEN3IOr7wf"
      },
      "execution_count": null,
      "outputs": []
    },
    {
      "cell_type": "code",
      "source": [
        "#print the dimensions of x_train,x_test,y_train,y_test\n",
        "\n",
        "print(x_train.shape)\n",
        "print(y_train.shape)\n",
        "print(x_test.shape)\n",
        "print(y_test.shape)\n"
      ],
      "metadata": {
        "colab": {
          "base_uri": "https://localhost:8080/"
        },
        "id": "MQ2jc6yDsPyu",
        "outputId": "f44f37e8-f206-4501-a1f6-d9fcac37b104"
      },
      "execution_count": null,
      "outputs": [
        {
          "output_type": "stream",
          "name": "stdout",
          "text": [
            "(20, 1)\n",
            "(20, 1)\n",
            "(10, 1)\n",
            "(10, 1)\n"
          ]
        }
      ]
    },
    {
      "cell_type": "markdown",
      "source": [
        "Mechanics of the model"
      ],
      "metadata": {
        "id": "xn41IX_Ksmri"
      }
    },
    {
      "cell_type": "code",
      "source": [
        "#fit the linear model\n",
        "\n",
        "#instantiate the linear regression object Lm\n",
        "from sklearn.linear_model import LinearRegression\n",
        "lm=LinearRegression()\n",
        "\n",
        "#train the model using training data sets\n",
        "lm.fit(x_train,y_train)\n",
        "\n",
        "#predict on the test data\n",
        "y_pred=lm.predict(x_test)"
      ],
      "metadata": {
        "id": "lKPflVL_spfi"
      },
      "execution_count": null,
      "outputs": []
    },
    {
      "cell_type": "markdown",
      "source": [
        "model slope and intercept term"
      ],
      "metadata": {
        "id": "2mCGaU41vJ2F"
      }
    },
    {
      "cell_type": "code",
      "source": [
        "#compute model slope and intercept\n",
        "\n",
        "a=lm.coef_\n",
        "b=lm.intercept_\n",
        "print(\"Estimated model slope, a:\",a)\n",
        "print(\"Estimated model intercept, b:\",b)\n",
        "\n",
        "#fittedregression line is y=9426.03876907 * x 24382.73150234\n",
        "#this is our linear model"
      ],
      "metadata": {
        "colab": {
          "base_uri": "https://localhost:8080/"
        },
        "id": "4tFWP7Y0vNPz",
        "outputId": "e29edfab-b2da-41c0-9db0-f80ea557525b"
      },
      "execution_count": null,
      "outputs": [
        {
          "output_type": "stream",
          "name": "stdout",
          "text": [
            "Estimated model slope, a: [[9426.03876907]]\n",
            "Estimated model intercept, b: [24382.73150234]\n"
          ]
        }
      ]
    },
    {
      "cell_type": "markdown",
      "source": [
        "making predictiobs"
      ],
      "metadata": {
        "id": "HiO3L1-Pzvge"
      }
    },
    {
      "cell_type": "code",
      "source": [
        "#predicting salary values\n",
        "lm.predict(x)[0:5]\n",
        "#predicting advertising values on first five sales values"
      ],
      "metadata": {
        "colab": {
          "base_uri": "https://localhost:8080/"
        },
        "id": "86Gg16jwzyaS",
        "outputId": "d3c43111-3390-46f4-8ac9-4ef98384ef41"
      },
      "execution_count": null,
      "outputs": [
        {
          "output_type": "execute_result",
          "data": {
            "text/plain": [
              "array([[35693.97802523],\n",
              "       [37579.18577904],\n",
              "       [39464.39353286],\n",
              "       [44177.41291739],\n",
              "       [46062.62067121]])"
            ]
          },
          "metadata": {},
          "execution_count": 28
        }
      ]
    },
    {
      "cell_type": "code",
      "source": [
        "#to make an individual prediction using linear regression model\n",
        "print(str(lm.predict([[20]])))\n"
      ],
      "metadata": {
        "colab": {
          "base_uri": "https://localhost:8080/"
        },
        "id": "rOvDDitJ0TuP",
        "outputId": "e4b8f413-57a6-4705-ae1c-c92d8a72d207"
      },
      "execution_count": null,
      "outputs": [
        {
          "output_type": "stream",
          "name": "stdout",
          "text": [
            "[[212903.50688383]]\n"
          ]
        }
      ]
    },
    {
      "cell_type": "markdown",
      "source": [
        "regression metrics for model performance"
      ],
      "metadata": {
        "id": "YI0dzw9I1DvA"
      }
    },
    {
      "cell_type": "markdown",
      "source": [
        "RMSE (root mean square error)"
      ],
      "metadata": {
        "id": "ujttIo6J1-bh"
      }
    },
    {
      "cell_type": "code",
      "source": [
        "#actual value - predicted value= residual\n",
        "#calculate and print the root mean square error(RMSE)\n",
        "\n",
        "from sklearn.metrics import mean_squared_error\n",
        "mse=mean_squared_error(y_test,y_pred)\n",
        "rmse=np.sqrt(mse)\n",
        "print(\"RMSE value: {:.4f}\".format(rmse))"
      ],
      "metadata": {
        "colab": {
          "base_uri": "https://localhost:8080/"
        },
        "id": "BktpaWbB1Jyz",
        "outputId": "b80e6212-f261-4987-8f60-1dabc2c0c4ff"
      },
      "execution_count": null,
      "outputs": [
        {
          "output_type": "stream",
          "name": "stdout",
          "text": [
            "RMSE value: 5941.5401\n"
          ]
        }
      ]
    },
    {
      "cell_type": "markdown",
      "source": [
        "R2 score"
      ],
      "metadata": {
        "id": "Adsoaui12-nJ"
      }
    },
    {
      "cell_type": "code",
      "source": [
        "#calculate and print r2_score\n",
        "\n",
        "from sklearn.metrics import r2_score\n",
        "print(\"R2 Score Value: {:.4f}\".format(r2_score(y_test,y_pred)))"
      ],
      "metadata": {
        "colab": {
          "base_uri": "https://localhost:8080/"
        },
        "id": "NEsuOY_X3Awb",
        "outputId": "1838a6b6-c0bc-4f27-a29f-ddd57ada43bb"
      },
      "execution_count": null,
      "outputs": [
        {
          "output_type": "stream",
          "name": "stdout",
          "text": [
            "R2 Score Value: 0.9553\n"
          ]
        }
      ]
    },
    {
      "cell_type": "markdown",
      "source": [
        "interpretation and conclusion"
      ],
      "metadata": {
        "id": "PNkr8eer3n8P"
      }
    },
    {
      "cell_type": "code",
      "source": [
        "#plot the regression line\n",
        "\n",
        "plt.scatter(x,y,color='blue',label='Scatter Plot')\n",
        "plt.plot(x_test,y_pred,color='black', linewidth=3,label='Regression Line')\n",
        "plt.title('Relationship between Years of Experience and Salary')\n",
        "plt.xlabel('Years of Experience')\n",
        "plt.ylabel('Salary')\n",
        "plt.legend(loc=4)\n",
        "plt.show()"
      ],
      "metadata": {
        "colab": {
          "base_uri": "https://localhost:8080/",
          "height": 470
        },
        "id": "2TxfpSIV3sl8",
        "outputId": "92b3e5d3-b1c0-4259-fa0b-0578998c4bed"
      },
      "execution_count": null,
      "outputs": [
        {
          "output_type": "display_data",
          "data": {
            "text/plain": [
              "<Figure size 640x480 with 1 Axes>"
            ],
            "image/png": "[encoded data removed]"
          },
          "metadata": {}
        }
      ]
    },
    {
      "cell_type": "markdown",
      "source": [
        "residual analysis"
      ],
      "metadata": {
        "id": "Wu4sLEyl5Dwv"
      }
    },
    {
      "cell_type": "code",
      "source": [
        "#plotting residual errors\n",
        "plt.scatter(lm.predict(x_train),lm.predict(x_train)-y_train,color='blue',label='Train Data')\n",
        "plt.scatter(lm.predict(x_test),lm.predict(x_test)-y_test,color='red',label='Test Data')\n",
        "plt.hlines(xmin = 0, xmax = 50 , y = 0, linewidth = 3)\n",
        "plt.title('Residual Errors')\n",
        "plt.legend(loc=4)\n",
        "plt.show()\n"
      ],
      "metadata": {
        "colab": {
          "base_uri": "https://localhost:8080/",
          "height": 452
        },
        "id": "KD8v8ldk5Fnt",
        "outputId": "6db72922-6a65-4359-9792-9320f138e75c"
      },
      "execution_count": null,
      "outputs": [
        {
          "output_type": "display_data",
          "data": {
            "text/plain": [
              "<Figure size 640x480 with 1 Axes>"
            ],
            "image/png": "[encoded data removed]"
          },
          "metadata": {}
        }
      ]
    },
    {
      "cell_type": "markdown",
      "source": [
        "checking for overfitting and underfitting"
      ],
      "metadata": {
        "id": "8hLodrKg8LNs"
      }
    },
    {
      "cell_type": "code",
      "source": [
        "print(\"training set score: {:.4f}\".format(lm.score(x_train,y_train)))\n",
        "print(\"test set score: {:.4f}\".format(lm.score(x_test,y_test)))"
      ],
      "metadata": {
        "colab": {
          "base_uri": "https://localhost:8080/"
        },
        "id": "jF1WHPJO8PEU",
        "outputId": "c969f786-87bb-4c63-b283-7d7e39faa07d"
      },
      "execution_count": null,
      "outputs": [
        {
          "output_type": "stream",
          "name": "stdout",
          "text": [
            "training set score: 0.9549\n",
            "test set score: 0.9553\n"
          ]
        }
      ]
    }
  ]
}